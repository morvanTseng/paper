{
 "cells": [
  {
   "cell_type": "code",
   "execution_count": 2,
   "metadata": {
    "collapsed": true
   },
   "outputs": [],
   "source": [
    "import sys\n",
    "# 直接导入Smote是不行的，必须将路径加入才可以\n",
    "sys.path.append(\"C:Users\\perma\\PycharmProjects\\paper\")\n",
    "import pandas as pd\n",
    "import numpy as np\n",
    "from sklearn.preprocessing import MinMaxScaler\n",
    "from sklearn.preprocessing import OneHotEncoder"
   ]
  },
  {
   "cell_type": "code",
   "execution_count": 3,
   "metadata": {},
   "outputs": [],
   "source": [
    "names = [\"Sex\", \"Length\", \"Diameter\", \"Height\", \"Whole\", \"Shucked\", \"Viscera\", \"Shell\", \"class\"]\n",
    "major_class = list(range(1, 14))\n",
    "data_path = \"C:\\\\Users\\\\perma\\\\PycharmProjects\\\\paper\\\\data\\\\abalone.data\""
   ]
  },
  {
   "cell_type": "code",
   "execution_count": 4,
   "metadata": {},
   "outputs": [
    {
     "name": "stderr",
     "output_type": "stream",
     "text": [
      "D:\\software\\anaconda\\exe\\envs\\forpaper\\lib\\site-packages\\ipykernel_launcher.py:6: FutureWarning: read_table is deprecated, use read_csv instead.\n  \n"
     ]
    }
   ],
   "source": [
    "\n",
    "table = pd.read_table(filepath_or_buffer=data_path,\n",
    "                      header=None,\n",
    "                      index_col=None,\n",
    "                      names=names,\n",
    "                      sep=\",\"\n",
    "                      )\n"
   ]
  },
  {
   "cell_type": "code",
   "execution_count": 5,
   "metadata": {},
   "outputs": [
    {
     "name": "stdout",
     "output_type": "stream",
     "text": [
      "  Sex  Length  Diameter  Height   Whole  Shucked  Viscera  Shell  class\n0   M   0.455     0.365   0.095  0.5140   0.2245   0.1010   0.15     15\n1   M   0.350     0.265   0.090  0.2255   0.0995   0.0485   0.07      7\n2   F   0.530     0.420   0.135  0.6770   0.2565   0.1415   0.21      9\n(4177, 9)\n"
     ]
    }
   ],
   "source": [
    "print(table.head(3))\n",
    "print(table.shape)\n"
   ]
  },
  {
   "cell_type": "code",
   "execution_count": 6,
   "metadata": {},
   "outputs": [],
   "source": [
    "label = []\n",
    "for l in table[\"class\"]:\n",
    "    if l in major_class:\n",
    "        label.append(0.0)\n",
    "    else:\n",
    "        label.append(1.0)\n"
   ]
  },
  {
   "cell_type": "code",
   "execution_count": 7,
   "metadata": {
    "collapsed": false
   },
   "outputs": [
    {
     "name": "stdout",
     "output_type": "stream",
     "text": [
      "   Length  Diameter  Height   Whole  Shucked  Viscera  Shell  class  Sex_F  \\\n0   0.455     0.365   0.095  0.5140   0.2245   0.1010   0.15     15      0   \n1   0.350     0.265   0.090  0.2255   0.0995   0.0485   0.07      7      0   \n2   0.530     0.420   0.135  0.6770   0.2565   0.1415   0.21      9      1   \n\n   Sex_I  Sex_M  \n0      0      1  \n1      0      1  \n2      0      0  \n  Sex  Length  Diameter  Height   Whole  Shucked  Viscera  Shell  class\n0   M   0.455     0.365   0.095  0.5140   0.2245   0.1010   0.15     15\n1   M   0.350     0.265   0.090  0.2255   0.0995   0.0485   0.07      7\n2   F   0.530     0.420   0.135  0.6770   0.2565   0.1415   0.21      9\n"
     ]
    }
   ],
   "source": [
    "dummies = pd.get_dummies(data=table, prefix=[\"Sex\"], columns=[\"Sex\"])\n",
    "print(dummies.head(3))\n",
    "print(table.head(3))"
   ]
  },
  {
   "cell_type": "code",
   "execution_count": 8,
   "metadata": {},
   "outputs": [
    {
     "name": "stdout",
     "output_type": "stream",
     "text": [
      "   Sex_F  Sex_I  Sex_M  Length  Diameter  Height   Whole  Shucked  Viscera  \\\n0      0      0      1   0.455     0.365   0.095  0.5140   0.2245   0.1010   \n1      0      0      1   0.350     0.265   0.090  0.2255   0.0995   0.0485   \n2      1      0      0   0.530     0.420   0.135  0.6770   0.2565   0.1415   \n\n   Shell  \n0   0.15  \n1   0.07  \n2   0.21  \n"
     ]
    }
   ],
   "source": [
    "attributes = [\"Sex_F\", \"Sex_I\", \"Sex_M\", \"Length\", \"Diameter\", \"Height\", \"Whole\", \"Shucked\", \"Viscera\", \"Shell\"]    \n",
    "data = dummies[attributes]\n",
    "print(data.iloc[0:3, :])"
   ]
  },
  {
   "cell_type": "code",
   "execution_count": 9,
   "metadata": {},
   "outputs": [
    {
     "data": {
      "text/plain": [
       "[1.0, 0.0, 0.0]"
      ]
     },
     "execution_count": 9,
     "metadata": {},
     "output_type": "execute_result"
    }
   ],
   "source": [
    "label[0:3]"
   ]
  },
  {
   "cell_type": "code",
   "execution_count": 10,
   "metadata": {},
   "outputs": [
    {
     "name": "stdout",
     "output_type": "stream",
     "text": [
      "490\n"
     ]
    }
   ],
   "source": [
    "minor_count = 0\n",
    "for i in label:\n",
    "    if i == 1.0:\n",
    "        minor_count += 1\n",
    "print(minor_count)\n",
    "major_count = 0\n"
   ]
  },
  {
   "cell_type": "code",
   "execution_count": 11,
   "metadata": {},
   "outputs": [],
   "source": []
  },
  {
   "cell_type": "code",
   "execution_count": null,
   "metadata": {},
   "outputs": [],
   "source": []
  }
 ],
 "metadata": {
  "kernelspec": {
   "display_name": "Python 2",
   "language": "python",
   "name": "python2"
  },
  "language_info": {
   "codemirror_mode": {
    "name": "ipython",
    "version": 2
   },
   "file_extension": ".py",
   "mimetype": "text/x-python",
   "name": "python",
   "nbconvert_exporter": "python",
   "pygments_lexer": "ipython2",
   "version": "2.7.6"
  }
 },
 "nbformat": 4,
 "nbformat_minor": 0
}

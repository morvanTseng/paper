{
 "cells": [
  {
   "cell_type": "code",
   "execution_count": 25,
   "metadata": {
    "collapsed": true
   },
   "outputs": [],
   "source": [
    "import sys\n",
    "# 直接导入Smote是不行的，必须将路径加入才可以\n",
    "sys.path.append(\"C:Users\\perma\\PycharmProjects\\paper\")\n",
    "import pandas as pd\n",
    "import numpy as np\n",
    "from sklearn.preprocessing import MinMaxScaler"
   ]
  },
  {
   "cell_type": "code",
   "execution_count": 26,
   "metadata": {},
   "outputs": [
    {
     "name": "stdout",
     "output_type": "stream",
     "text": [
      "   Id       RI     Na    Mg    Al     Si     K    Ca   Ba   Fe  class\n0   1  1.52101  13.64  4.49  1.10  71.78  0.06  8.75  0.0  0.0      1\n1   2  1.51761  13.89  3.60  1.36  72.73  0.48  7.83  0.0  0.0      1\n2   3  1.51618  13.53  3.55  1.54  72.99  0.39  7.78  0.0  0.0      1\n        RI     Na    Mg    Al     Si     K    Ca   Ba   Fe\n0  1.52101  13.64  4.49  1.10  71.78  0.06  8.75  0.0  0.0\n1  1.51761  13.89  3.60  1.36  72.73  0.48  7.83  0.0  0.0\n2  1.51618  13.53  3.55  1.54  72.99  0.39  7.78  0.0  0.0\n0    1\n1    1\n2    1\nName: class, dtype: int64\nlength: data, label 214 214\n"
     ]
    },
    {
     "name": "stderr",
     "output_type": "stream",
     "text": [
      "D:\\software\\anaconda\\exe\\envs\\forpaper\\lib\\site-packages\\ipykernel_launcher.py:8: FutureWarning: read_table is deprecated, use read_csv instead.\n  \n"
     ]
    }
   ],
   "source": [
    "# 读取数据\n",
    "column_names = [\"Id\", \"RI\", \"Na\", \"Mg\", \"Al\", \"Si\", \"K\", \"Ca\", \"Ba\", \"Fe\", \"class\"]\n",
    "data_path = \"C:\\\\Users\\\\perma\\\\PycharmProjects\\\\paper\\\\data\\\\glass.data\"\n",
    "table = pd.read_table(filepath_or_buffer=data_path,\n",
    "                      sep=\",\",\n",
    "                      header=None,\n",
    "                      index_col=None,\n",
    "                      names=column_names)\n",
    "attributes = [\"RI\", \"Na\", \"Mg\", \"Al\", \"Si\", \"K\", \"Ca\", \"Ba\", \"Fe\"]\n",
    "print(table.head(3))\n",
    "data = table[attributes]\n",
    "label = table[\"class\"]\n",
    "print(data.head(3))\n",
    "print(label.head(3))\n",
    "print(\"length: data, label\", len(data), len(label))"
   ]
  },
  {
   "cell_type": "code",
   "execution_count": 27,
   "metadata": {},
   "outputs": [
    {
     "data": {
      "text/plain": [
       "array([[0.43283582, 0.43759398, 1.        , 0.25233645, 0.35178571,\n        0.00966184, 0.30855019, 0.        , 0.        ],\n       [0.28358209, 0.47518797, 0.80178174, 0.33333333, 0.52142857,\n        0.07729469, 0.22304833, 0.        , 0.        ],\n       [0.22080773, 0.42105263, 0.79064588, 0.3894081 , 0.56785714,\n        0.06280193, 0.21840149, 0.        , 0.        ]])"
      ]
     },
     "execution_count": 27,
     "metadata": {},
     "output_type": "execute_result"
    }
   ],
   "source": [
    "scaler = MinMaxScaler()\n",
    "scaled_data = scaler.fit_transform(X=data)\n",
    "scaled_data[0:3]"
   ]
  },
  {
   "cell_type": "code",
   "execution_count": null,
   "metadata": {},
   "outputs": [],
   "source": [
    "minor_class = [5, 6, 7]\n",
    "major_class = [1, 2, 3, 4]\n",
    "new_label = []\n",
    "for l in label:\n",
    "    if l in major_class:\n",
    "        new_label.append(0.0)\n",
    "    else:\n",
    "        new_label.append(1.0)\n",
    "        "
   ]
  }
 ],
 "metadata": {
  "kernelspec": {
   "display_name": "Python 2",
   "language": "python",
   "name": "python2"
  },
  "language_info": {
   "codemirror_mode": {
    "name": "ipython",
    "version": 2
   },
   "file_extension": ".py",
   "mimetype": "text/x-python",
   "name": "python",
   "nbconvert_exporter": "python",
   "pygments_lexer": "ipython2",
   "version": "2.7.6"
  }
 },
 "nbformat": 4,
 "nbformat_minor": 0
}

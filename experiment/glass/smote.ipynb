{
 "cells": [
  {
   "cell_type": "code",
   "execution_count": 2,
   "metadata": {
    "collapsed": true
   },
   "outputs": [],
   "source": [
    "import sys\n",
    "# 直接导入Smote是不行的，必须将路径加入才可以\n",
    "sys.path.append(\"C:Users\\perma\\PycharmProjects\\paper\")\n",
    "import pandas as pd\n",
    "import numpy as np\n",
    "from sklearn.preprocessing import MinMaxScaler\n",
    "from algorithm.SMOTE import Smote"
   ]
  },
  {
   "cell_type": "code",
   "execution_count": 3,
   "metadata": {},
   "outputs": [
    {
     "name": "stdout",
     "output_type": "stream",
     "text": [
      "length: data, label 214 214\n"
     ]
    },
    {
     "name": "stderr",
     "output_type": "stream",
     "text": [
      "D:\\software\\anaconda\\exe\\envs\\forpaper\\lib\\site-packages\\ipykernel_launcher.py:8: FutureWarning: read_table is deprecated, use read_csv instead.\n  \n"
     ]
    }
   ],
   "source": [
    "# 读取数据\n",
    "column_names = [\"Id\", \"RI\", \"Na\", \"Mg\", \"Al\", \"Si\", \"K\", \"Ca\", \"Ba\", \"Fe\", \"class\"]\n",
    "data_path = \"C:\\\\Users\\\\perma\\\\PycharmProjects\\\\paper\\\\data\\\\glass.data\"\n",
    "table = pd.read_table(filepath_or_buffer=data_path,\n",
    "                      sep=\",\",\n",
    "                      header=None,\n",
    "                      index_col=None,\n",
    "                      names=column_names)\n",
    "attributes = [\"RI\", \"Na\", \"Mg\", \"Al\", \"Si\", \"K\", \"Ca\", \"Ba\", \"Fe\"]\n",
    "data = table[attributes]\n",
    "label = table[\"class\"]\n",
    "print(\"length: data, label\", len(data), len(label))\n",
    "scaler = MinMaxScaler()\n",
    "scaled_data = scaler.fit_transform(X=data)\n",
    "scaled_data[0:3]\n",
    "minor_class = [5, 6, 7]\n",
    "major_class = [1, 2, 3, 4]\n",
    "new_label = []\n",
    "for l in label:\n",
    "    if l in major_class:\n",
    "        new_label.append(0.0)\n",
    "    else:\n",
    "        new_label.append(1.0)\n"
   ]
  },
  {
   "cell_type": "code",
   "execution_count": 4,
   "metadata": {},
   "outputs": [],
   "source": [
    "from sklearn.neighbors import KNeighborsClassifier\n",
    "from sklearn.model_selection import cross_val_score\n",
    "from sklearn.tree import DecisionTreeClassifier\n",
    "from sklearn.svm import SVC\n",
    "from sklearn.linear_model import LogisticRegression\n",
    "from sklearn.naive_bayes import GaussianNB\n",
    "from sklearn.model_selection import GridSearchCV\n",
    "from sklearn.metrics import confusion_matrix, make_scorer, f1_score\n",
    "from sklearn.model_selection import train_test_split"
   ]
  },
  {
   "cell_type": "code",
   "execution_count": 5,
   "metadata": {},
   "outputs": [],
   "source": [
    "knn = KNeighborsClassifier()\n",
    "dc = DecisionTreeClassifier()\n",
    "svm = SVC()\n",
    "lg = LogisticRegression()\n",
    "nb = GaussianNB()\n",
    "algorithm = {\"knn\": knn, \"tree\": dc, \"svm\": svm, \"lgs\": lg, \"nb\": nb}\n",
    "alg_params = {\"knn\": {\"n_neighbors\": 7}, \n",
    "              \"tree\": {}, \n",
    "              \"svm\": {}, \n",
    "              \"lgs\": {}, \n",
    "              \"nb\": {}}"
   ]
  },
  {
   "cell_type": "code",
   "execution_count": 17,
   "metadata": {},
   "outputs": [
    {
     "name": "stdout",
     "output_type": "stream",
     "text": [
      "knn  :  gmean  :  0.9369522075078404-----------------knn  :  fscore  :  0.4401948048487242-----------------\n\ntree  :  gmean  :  0.9035464543511881-----------------tree  :  fscore  :  0.426075608223673-----------------\n\nsvm  :  gmean  :  0.860092962519215-----------------svm  :  fscore  :  0.39347987626866504-----------------\n\nlgs  :  gmean  :  0.8873335120783972-----------------lgs  :  fscore  :  0.411498088555913-----------------\n\nnb  :  gmean  :  0.8760190743847386-----------------nb  :  fscore  :  0.4130698440295892-----------------\n\n"
     ]
    }
   ],
   "source": [
    "# 将少数类和多数类分开提取出来\n",
    "major = []\n",
    "major_label = []\n",
    "minor = []\n",
    "minor_label = []\n",
    "for label_index in range(len(new_label)):\n",
    "    if new_label[label_index] == 1.0:\n",
    "        minor.append(scaled_data[label_index, :])\n",
    "        minor_label.append(new_label[label_index])\n",
    "    else:\n",
    "        major.append(scaled_data[label_index, :])\n",
    "        major_label.append(new_label[label_index])\n",
    "# 定义gmean函数\n",
    "def g_mean(ground_truth, prediction):\n",
    "    matrix = confusion_matrix(y_true=ground_truth, y_pred=prediction)\n",
    "    tpr = matrix[1, 1] / (matrix[1, 1] + matrix[1, 0])\n",
    "    tpn = matrix[0, 0] / (matrix[0, 0] + matrix[0, 1])\n",
    "    return np.sqrt(tpr * tpn)\n",
    "result = dict([(key, {\"gmean\": list(), \"fscore\": list()}) for key in algorithm.keys()])\n",
    "# 实验次数\n",
    "n=100\n",
    "for i in range(n):\n",
    "    for key in algorithm.keys():\n",
    "        alg = algorithm[key]\n",
    "        alg.set_params(**alg_params[key])\n",
    "        major_train, major_test, \\\n",
    "        major_label_train, major_label_test \\\n",
    "            = train_test_split(major, major_label, shuffle=True, test_size=0.25)\n",
    "        minor_train, minor_test, \\\n",
    "        minor_label_train, minor_label_test \\\n",
    "            = train_test_split(minor, minor_label, shuffle=True, test_size=0.25)\n",
    "        data_train = np.concatenate((major_train, minor_train), axis=0)\n",
    "        label_train = np.concatenate((major_label_train, minor_label_train), axis=0)\n",
    "        data_test = np.concatenate((major_test, minor_test), axis=0)\n",
    "        label_test = np.concatenate((major_label_test, minor_label_test), axis=0)\n",
    "        # smote生成合成样本\n",
    "        minor_samples = []\n",
    "        for label_index in range(len(label_train)):\n",
    "            if label_train[label_index] == 1.0:\n",
    "                minor_samples.append(data_train[label_index])\n",
    "        smote = Smote(minor_samples, 300, 15)\n",
    "        smote.over_sampling()\n",
    "        syntheticed_samples = smote.synthetic\n",
    "        syntheticed_labels = len(syntheticed_samples) * [1.0]\n",
    "        syntheticed_train = np.concatenate((data_train, syntheticed_samples), axis=0)\n",
    "        syntheticed_train_label = np.concatenate((label_train, syntheticed_labels), axis=0)\n",
    "        alg.fit(X=syntheticed_train, y=syntheticed_train_label)\n",
    "        prediction = alg.predict(X=data_test)\n",
    "        gmean = g_mean(label_test, prediction)\n",
    "        fscore = f1_score(y_true=label_test, y_pred=prediction) / 2\n",
    "        result[key][\"gmean\"].append(gmean)\n",
    "        result[key][\"fscore\"].append(fscore)\n",
    "new_line = 0       \n",
    "for alg_key in result.keys():\n",
    "    new_line += 1\n",
    "    alg = result[alg_key]\n",
    "    for score_key in alg.keys():\n",
    "        mean_score = np.mean(alg[score_key])\n",
    "        print(alg_key, \" : \", score_key, \" : \", mean_score, end=\"-----------------\")\n",
    "    print(\"\\n\")\n"
   ]
  },
  {
   "cell_type": "code",
   "execution_count": 1,
   "metadata": {},
   "outputs": [],
   "source": [
    "# # k = 3\n",
    "# knn  :  gmean  :  0.9314632519167819-----------------knn  :  fscore  :  0.4365387389914086-----------------\n",
    "# \n",
    "# tree  :  gmean  :  0.8837708029008948-----------------tree  :  fscore  :  0.41675847414377665-----------------\n",
    "# \n",
    "# svm  :  gmean  :  0.8708426190490793-----------------svm  :  fscore  :  0.39961581623073333-----------------\n",
    "# \n",
    "# lgs  :  gmean  :  0.8896021989982745-----------------lgs  :  fscore  :  0.4088651281915464-----------------\n",
    "# \n",
    "# nb  :  gmean  :  0.884368213674143-----------------nb  :  fscore  :  0.4112518505212096-----------------"
   ]
  },
  {
   "cell_type": "code",
   "execution_count": 8,
   "metadata": {},
   "outputs": [],
   "source": [
    "# # K = 4\n",
    "# knn  :  gmean  :  0.93545970240799-----------------knn  :  fscore  :  0.4372203822940336-----------------\n",
    "# \n",
    "# tree  :  gmean  :  0.8962134969201729-----------------tree  :  fscore  :  0.4225824195535585-----------------\n",
    "# \n",
    "# # svm  :  gmean  :  0.86545986876768-----------------svm  :  fscore  :  0.3989673586348201-----------------\n",
    "# \n",
    "# lgs  :  gmean  :  0.8992093023726833-----------------lgs  :  fscore  :  0.41652964572993356-----------------\n",
    "# \n",
    "# nb  :  gmean  :  0.8940945276678378-----------------nb  :  fscore  :  0.41872163900969817-----------------"
   ]
  },
  {
   "cell_type": "code",
   "execution_count": 10,
   "metadata": {},
   "outputs": [],
   "source": [
    "# # k = 5\n",
    "# knn  :  gmean  :  0.9384987956511892-----------------knn  :  fscore  :  0.44214686061888514-----------------\n",
    "# \n",
    "# tree  :  gmean  :  0.8940841151936233-----------------tree  :  fscore  :  0.4234206022741907-----------------\n",
    "# \n",
    "# svm  :  gmean  :  0.872779050695092-----------------svm  :  fscore  :  0.40221301722535946-----------------\n",
    "# \n",
    "# lgs  :  gmean  :  0.8908065437127949-----------------lgs  :  fscore  :  0.41274401307782116-----------------\n",
    "# \n",
    "# nb  :  gmean  :  0.884817928999969-----------------nb  :  fscore  :  0.41472335925360665-----------------\n"
   ]
  },
  {
   "cell_type": "code",
   "execution_count": 12,
   "metadata": {},
   "outputs": [],
   "source": [
    "# #  k =6\n",
    "# knn  :  gmean  :  0.9287508548389419-----------------knn  :  fscore  :  0.4336866008555282-----------------\n",
    "# \n",
    "# tree  :  gmean  :  0.8998187057020596-----------------tree  :  fscore  :  0.4245226295869518-----------------\n",
    "# \n",
    "# svm  :  gmean  :  0.8645014139020877-----------------svm  :  fscore  :  0.3976084039016168-----------------\n",
    "# \n",
    "# lgs  :  gmean  :  0.8941887742427105-----------------lgs  :  fscore  :  0.41381901642649277-----------------\n",
    "# \n",
    "# nb  :  gmean  :  0.8957115416845669-----------------nb  :  fscore  :  0.4229753352462685-----------------"
   ]
  },
  {
   "cell_type": "code",
   "execution_count": 14,
   "metadata": {},
   "outputs": [],
   "source": [
    "# # k =7\n",
    "# # knn  :  gmean  :  0.9426433947656854-----------------knn  :  fscore  :  0.44562979247506507-----------------\n",
    "# # \n",
    "# # tree  :  gmean  :  0.8842879067067304-----------------tree  :  fscore  :  0.4174324302048753-----------------\n",
    "# # \n",
    "# # svm  :  gmean  :  0.8699231838075978-----------------svm  :  fscore  :  0.40029899748670844-----------------\n",
    "# # \n",
    "# # lgs  :  gmean  :  0.891793765906231-----------------lgs  :  fscore  :  0.4127127413094431-----------------\n",
    "# # \n",
    "# # nb  :  gmean  :  0.8817630587824777-----------------nb  :  fscore  :  0.41358522721206553-----------------"
   ]
  },
  {
   "cell_type": "code",
   "execution_count": 15,
   "metadata": {},
   "outputs": [],
   "source": [
    "# # k =1 \n",
    "# knn  :  gmean  :  0.9480193683905904-----------------knn  :  fscore  :  0.44587653950507117-----------------\n",
    "# \n",
    "# tree  :  gmean  :  0.8928913103275136-----------------tree  :  fscore  :  0.4255872793521712-----------------\n",
    "# \n",
    "# svm  :  gmean  :  0.8695320186695361-----------------svm  :  fscore  :  0.4020636049008999-----------------\n",
    "# \n",
    "# lgs  :  gmean  :  0.8898945067381304-----------------lgs  :  fscore  :  0.4105389364046658-----------------\n",
    "# \n",
    "# nb  :  gmean  :  0.8703926043617861-----------------nb  :  fscore  :  0.40524646437263706-----------------\n"
   ]
  },
  {
   "cell_type": "code",
   "execution_count": 18,
   "metadata": {},
   "outputs": [],
   "source": [
    "# # k =8 \n",
    "# knn  :  gmean  :  0.9378560990403381-----------------knn  :  fscore  :  0.44178723144414195-----------------\n",
    "# \n",
    "# tree  :  gmean  :  0.8958288977716704-----------------tree  :  fscore  :  0.42219978007998477-----------------\n",
    "# \n",
    "# svm  :  gmean  :  0.8669944036249574-----------------svm  :  fscore  :  0.3990487046825799-----------------\n",
    "# \n",
    "# lgs  :  gmean  :  0.8875755665331814-----------------lgs  :  fscore  :  0.4121753407937018-----------------\n",
    "# \n",
    "# nb  :  gmean  :  0.891633523290444-----------------nb  :  fscore  :  0.4190910283619428-----------------"
   ]
  },
  {
   "cell_type": "code",
   "execution_count": null,
   "metadata": {},
   "outputs": [],
   "source": [
    "# # k = 15\n",
    "# knn  :  gmean  :  0.9369522075078404-----------------knn  :  fscore  :  0.4401948048487242-----------------\n",
    "# \n",
    "# tree  :  gmean  :  0.9035464543511881-----------------tree  :  fscore  :  0.426075608223673-----------------\n",
    "# \n",
    "# svm  :  gmean  :  0.860092962519215-----------------svm  :  fscore  :  0.39347987626866504-----------------\n",
    "# \n",
    "# lgs  :  gmean  :  0.8873335120783972-----------------lgs  :  fscore  :  0.411498088555913-----------------\n",
    "# \n",
    "# nb  :  gmean  :  0.8760190743847386-----------------nb  :  fscore  :  0.4130698440295892-----------------\n"
   ]
  }
 ],
 "metadata": {
  "kernelspec": {
   "display_name": "Python 2",
   "language": "python",
   "name": "python2"
  },
  "language_info": {
   "codemirror_mode": {
    "name": "ipython",
    "version": 2
   },
   "file_extension": ".py",
   "mimetype": "text/x-python",
   "name": "python",
   "nbconvert_exporter": "python",
   "pygments_lexer": "ipython2",
   "version": "2.7.6"
  }
 },
 "nbformat": 4,
 "nbformat_minor": 0
}
